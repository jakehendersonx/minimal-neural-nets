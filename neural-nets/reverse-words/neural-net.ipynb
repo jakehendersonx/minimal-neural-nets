{
 "cells": [
  {
   "cell_type": "code",
   "execution_count": 1,
   "metadata": {},
   "outputs": [],
   "source": [
    "import torch\n",
    "from torch.nn.utils.rnn import pad_sequence\n",
    "from torch.utils.data import Dataset, DataLoader"
   ]
  },
  {
   "cell_type": "code",
   "execution_count": 2,
   "metadata": {},
   "outputs": [],
   "source": [
    "# Step 1: Read the data and create vocabulary\n",
    "with open('words.txt', 'r') as f:\n",
    "    words = [line.strip() for line in f]\n",
    "\n",
    "with open('words-reversed.txt', 'r') as f:\n",
    "    reversed_words = [line.strip() for line in f]"
   ]
  },
  {
   "cell_type": "code",
   "execution_count": 3,
   "metadata": {},
   "outputs": [],
   "source": [
    "# Create vocabulary\n",
    "vocab = ['<PAD>', '<UNK>', '<SOS>', '<EOS>'] + list(set(''.join(words)))\n",
    "char_to_idx = {char: idx for idx, char in enumerate(vocab)}\n",
    "idx_to_char = {idx: char for char, idx in char_to_idx.items()}"
   ]
  },
  {
   "cell_type": "code",
   "execution_count": 4,
   "metadata": {},
   "outputs": [],
   "source": [
    "# Step 2: Create a custom Dataset\n",
    "class WordDataset(Dataset):\n",
    "    def __init__(self, words, reversed_words, char_to_idx):\n",
    "        self.words = words\n",
    "        self.reversed_words = reversed_words\n",
    "        self.char_to_idx = char_to_idx\n",
    "\n",
    "    def __len__(self):\n",
    "        return len(self.words)\n",
    "\n",
    "    def __getitem__(self, idx):\n",
    "        word = ['<SOS>'] + list(self.words[idx]) + ['<EOS>']\n",
    "        reversed_word = ['<SOS>'] + list(self.reversed_words[idx]) + ['<EOS>']\n",
    "        \n",
    "        return (torch.tensor([self.char_to_idx[c] for c in word]),\n",
    "                torch.tensor([self.char_to_idx[c] for c in reversed_word]))"
   ]
  },
  {
   "cell_type": "code",
   "execution_count": 5,
   "metadata": {},
   "outputs": [],
   "source": [
    "# Step 3: Create DataLoader\n",
    "def collate_fn(batch):\n",
    "    src_batch, tgt_batch = zip(*batch)\n",
    "    src_batch = pad_sequence(src_batch, padding_value=char_to_idx['<PAD>'], batch_first=True)\n",
    "    tgt_batch = pad_sequence(tgt_batch, padding_value=char_to_idx['<PAD>'], batch_first=True)\n",
    "    return src_batch, tgt_batch"
   ]
  },
  {
   "cell_type": "code",
   "execution_count": 6,
   "metadata": {},
   "outputs": [],
   "source": [
    "dataset = WordDataset(words, reversed_words, char_to_idx)\n",
    "dataloader = DataLoader(dataset, batch_size=32, shuffle=True, collate_fn=collate_fn)\n"
   ]
  },
  {
   "cell_type": "code",
   "execution_count": 7,
   "metadata": {},
   "outputs": [],
   "source": [
    "# Step 4: Define the model architecture\n",
    "class Seq2SeqModel(torch.nn.Module):\n",
    "    def __init__(self, vocab_size, embedding_dim, hidden_dim, num_layers):\n",
    "        super().__init__()\n",
    "        self.embedding = torch.nn.Embedding(vocab_size, embedding_dim)\n",
    "        self.encoder = torch.nn.LSTM(embedding_dim, hidden_dim, num_layers, batch_first=True)\n",
    "        self.decoder = torch.nn.LSTM(embedding_dim, hidden_dim, num_layers, batch_first=True)\n",
    "        self.fc = torch.nn.Linear(hidden_dim, vocab_size)\n",
    "\n",
    "    def forward(self, src, tgt):\n",
    "        embedded_src = self.embedding(src)\n",
    "        _, (hidden, cell) = self.encoder(embedded_src)\n",
    "\n",
    "        embedded_tgt = self.embedding(tgt[:, :-1])  # exclude last token\n",
    "        output, _ = self.decoder(embedded_tgt, (hidden, cell))\n",
    "        return self.fc(output)"
   ]
  },
  {
   "cell_type": "code",
   "execution_count": 8,
   "metadata": {},
   "outputs": [
    {
     "name": "stdout",
     "output_type": "stream",
     "text": [
      "Epoch 1/10, Loss: 2.0671\n",
      "Epoch 2/10, Loss: 0.4551\n",
      "Epoch 3/10, Loss: 0.1102\n",
      "Epoch 4/10, Loss: 0.0520\n",
      "Epoch 5/10, Loss: 0.0310\n",
      "Epoch 6/10, Loss: 0.0249\n",
      "Epoch 7/10, Loss: 0.0205\n",
      "Epoch 8/10, Loss: 0.0195\n",
      "Epoch 9/10, Loss: 0.0168\n",
      "Epoch 10/10, Loss: 0.0157\n"
     ]
    }
   ],
   "source": [
    "# Initialize the model\n",
    "vocab_size = len(vocab)\n",
    "embedding_dim = 128\n",
    "hidden_dim = 256\n",
    "num_layers = 2\n",
    "\n",
    "model = Seq2SeqModel(vocab_size, embedding_dim, hidden_dim, num_layers)\n",
    "\n",
    "# Step 5: Define loss function and optimizer\n",
    "criterion = torch.nn.CrossEntropyLoss(ignore_index=char_to_idx['<PAD>'])\n",
    "optimizer = torch.optim.Adam(model.parameters())\n",
    "\n",
    "# Step 6: Training loop\n",
    "num_epochs = 10\n",
    "device = torch.device('cuda' if torch.cuda.is_available() else 'cpu')\n",
    "model.to(device)\n",
    "\n",
    "for epoch in range(num_epochs):\n",
    "    model.train()\n",
    "    total_loss = 0\n",
    "    for src, tgt in dataloader:\n",
    "        src, tgt = src.to(device), tgt.to(device)\n",
    "        \n",
    "        optimizer.zero_grad()\n",
    "        output = model(src, tgt)\n",
    "        loss = criterion(output.view(-1, vocab_size), tgt[:, 1:].contiguous().view(-1))\n",
    "        loss.backward()\n",
    "        optimizer.step()\n",
    "        \n",
    "        total_loss += loss.item()\n",
    "    \n",
    "    print(f'Epoch {epoch+1}/{num_epochs}, Loss: {total_loss/len(dataloader):.4f}')\n"
   ]
  },
  {
   "cell_type": "code",
   "execution_count": 9,
   "metadata": {},
   "outputs": [],
   "source": [
    "# Step 7: Inference function\n",
    "def reverse_word(model, word, char_to_idx, idx_to_char):\n",
    "    model.eval()\n",
    "    with torch.no_grad():\n",
    "        input_seq = torch.tensor([[char_to_idx.get(c, char_to_idx['<UNK>']) for c in ['<SOS>'] + list(word) + ['<EOS>']]])\n",
    "        input_seq = input_seq.to(device)\n",
    "        output_seq = []\n",
    "        hidden = None\n",
    "        output = model(input_seq, input_seq)\n",
    "        # Process the output sequence\n",
    "        for i in range(output.size(1)):\n",
    "            topi = output[0, i].argmax().item()\n",
    "            if topi == char_to_idx['<EOS>']:\n",
    "                break\n",
    "            output_seq.append(topi)\n",
    "        \n",
    "        return ''.join([idx_to_char[idx] for idx in output_seq])\n"
   ]
  },
  {
   "cell_type": "code",
   "execution_count": 10,
   "metadata": {},
   "outputs": [
    {
     "ename": "RuntimeError",
     "evalue": "a Tensor with 6 elements cannot be converted to Scalar",
     "output_type": "error",
     "traceback": [
      "\u001b[0;31m---------------------------------------------------------------------------\u001b[0m",
      "\u001b[0;31mRuntimeError\u001b[0m                              Traceback (most recent call last)",
      "Cell \u001b[0;32mIn[10], line 3\u001b[0m\n\u001b[1;32m      1\u001b[0m \u001b[38;5;66;03m# Test the model\u001b[39;00m\n\u001b[1;32m      2\u001b[0m test_word \u001b[38;5;241m=\u001b[39m \u001b[38;5;124m\"\u001b[39m\u001b[38;5;124mhello\u001b[39m\u001b[38;5;124m\"\u001b[39m\n\u001b[0;32m----> 3\u001b[0m reversed_word \u001b[38;5;241m=\u001b[39m \u001b[43mreverse_word\u001b[49m\u001b[43m(\u001b[49m\u001b[43mmodel\u001b[49m\u001b[43m,\u001b[49m\u001b[43m \u001b[49m\u001b[43mtest_word\u001b[49m\u001b[43m,\u001b[49m\u001b[43m \u001b[49m\u001b[43mchar_to_idx\u001b[49m\u001b[43m,\u001b[49m\u001b[43m \u001b[49m\u001b[43midx_to_char\u001b[49m\u001b[43m)\u001b[49m\n\u001b[1;32m      4\u001b[0m \u001b[38;5;28mprint\u001b[39m(\u001b[38;5;124mf\u001b[39m\u001b[38;5;124m\"\u001b[39m\u001b[38;5;124mOriginal word: \u001b[39m\u001b[38;5;132;01m{\u001b[39;00mtest_word\u001b[38;5;132;01m}\u001b[39;00m\u001b[38;5;124m\"\u001b[39m)\n\u001b[1;32m      5\u001b[0m \u001b[38;5;28mprint\u001b[39m(\u001b[38;5;124mf\u001b[39m\u001b[38;5;124m\"\u001b[39m\u001b[38;5;124mReversed word: \u001b[39m\u001b[38;5;132;01m{\u001b[39;00mreversed_word\u001b[38;5;132;01m}\u001b[39;00m\u001b[38;5;124m\"\u001b[39m)\n",
      "Cell \u001b[0;32mIn[9], line 13\u001b[0m, in \u001b[0;36mreverse_word\u001b[0;34m(model, word, char_to_idx, idx_to_char)\u001b[0m\n\u001b[1;32m     10\u001b[0m \u001b[38;5;28;01mfor\u001b[39;00m _ \u001b[38;5;129;01min\u001b[39;00m \u001b[38;5;28mrange\u001b[39m(\u001b[38;5;28mlen\u001b[39m(word) \u001b[38;5;241m+\u001b[39m \u001b[38;5;241m2\u001b[39m):  \u001b[38;5;66;03m# +2 for SOS and EOS\u001b[39;00m\n\u001b[1;32m     12\u001b[0m     topi \u001b[38;5;241m=\u001b[39m output\u001b[38;5;241m.\u001b[39margmax(dim\u001b[38;5;241m=\u001b[39m\u001b[38;5;241m-\u001b[39m\u001b[38;5;241m1\u001b[39m)\n\u001b[0;32m---> 13\u001b[0m     output_seq\u001b[38;5;241m.\u001b[39mappend(\u001b[43mtopi\u001b[49m\u001b[38;5;241;43m.\u001b[39;49m\u001b[43mitem\u001b[49m\u001b[43m(\u001b[49m\u001b[43m)\u001b[49m)\n\u001b[1;32m     14\u001b[0m     input_seq \u001b[38;5;241m=\u001b[39m topi\u001b[38;5;241m.\u001b[39munsqueeze(\u001b[38;5;241m0\u001b[39m)\n\u001b[1;32m     16\u001b[0m     \u001b[38;5;28;01mif\u001b[39;00m topi\u001b[38;5;241m.\u001b[39mitem() \u001b[38;5;241m==\u001b[39m char_to_idx[\u001b[38;5;124m'\u001b[39m\u001b[38;5;124m<EOS>\u001b[39m\u001b[38;5;124m'\u001b[39m]:\n",
      "\u001b[0;31mRuntimeError\u001b[0m: a Tensor with 6 elements cannot be converted to Scalar"
     ]
    }
   ],
   "source": [
    "# Test the model\n",
    "test_word = \"hello\"\n",
    "reversed_word = reverse_word(model, test_word, char_to_idx, idx_to_char)\n",
    "print(f\"Original word: {test_word}\")\n",
    "print(f\"Reversed word: {reversed_word}\")"
   ]
  }
 ],
 "metadata": {
  "kernelspec": {
   "display_name": ".venv",
   "language": "python",
   "name": "python3"
  },
  "language_info": {
   "codemirror_mode": {
    "name": "ipython",
    "version": 3
   },
   "file_extension": ".py",
   "mimetype": "text/x-python",
   "name": "python",
   "nbconvert_exporter": "python",
   "pygments_lexer": "ipython3",
   "version": "3.12.4"
  }
 },
 "nbformat": 4,
 "nbformat_minor": 2
}
