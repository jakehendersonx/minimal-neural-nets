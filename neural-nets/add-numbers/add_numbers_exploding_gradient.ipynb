{
 "cells": [
  {
   "cell_type": "code",
   "execution_count": 1,
   "metadata": {},
   "outputs": [],
   "source": [
    "import torch\n",
    "import torch.nn as nn\n",
    "import torch.optim as optim"
   ]
  },
  {
   "cell_type": "code",
   "execution_count": 2,
   "metadata": {},
   "outputs": [],
   "source": [
    "class AddNumbersNet(nn.Module):\n",
    "    def __init__(self):\n",
    "        # instantiate parent nn module\n",
    "        super(AddNumbersNet, self).__init__()\n",
    "        # two inputs one output\n",
    "        # fully connected linear layer\n",
    "        self.fc = nn.Linear(2, 1)\n",
    "\n",
    "    def forward(self, x):\n",
    "        return self.fc(x)"
   ]
  },
  {
   "cell_type": "code",
   "execution_count": 3,
   "metadata": {},
   "outputs": [],
   "source": [
    "def generate_data(num_samples=1000):\n",
    "    # generate random numbers between 0 and 100\n",
    "    x = torch.rand((num_samples, 2)) * 100\n",
    "    # sum the two numbers\n",
    "    y = x.sum(dim=1, keepdim=True)\n",
    "    return x, y"
   ]
  },
  {
   "cell_type": "code",
   "execution_count": 4,
   "metadata": {},
   "outputs": [],
   "source": [
    "model = AddNumbersNet()\n",
    "criterion = nn.MSELoss()\n",
    "optimizer = optim.SGD(model.parameters(), lr=0.01)"
   ]
  },
  {
   "cell_type": "code",
   "execution_count": 7,
   "metadata": {},
   "outputs": [
    {
     "name": "stdout",
     "output_type": "stream",
     "text": [
      "epoch 0 \n",
      "loss: nan\n",
      "\n",
      "epoch 100 \n",
      "loss: nan\n",
      "\n",
      "epoch 200 \n",
      "loss: nan\n",
      "\n",
      "epoch 300 \n",
      "loss: nan\n",
      "\n",
      "epoch 400 \n",
      "loss: nan\n",
      "\n",
      "epoch 500 \n",
      "loss: nan\n",
      "\n",
      "epoch 600 \n",
      "loss: nan\n",
      "\n",
      "epoch 700 \n",
      "loss: nan\n",
      "\n",
      "epoch 800 \n",
      "loss: nan\n",
      "\n",
      "epoch 900 \n",
      "loss: nan\n",
      "\n"
     ]
    }
   ],
   "source": [
    "# train\n",
    "x_train, y_train = generate_data(1000)\n",
    "epochs = 1000\n",
    "for epoch in range(epochs):\n",
    "    # forward\n",
    "    predictions = model(x_train)\n",
    "    loss = criterion(predictions, y_train)\n",
    "\n",
    "    # backward pass and optimization\n",
    "    optimizer.zero_grad()\n",
    "    loss.backward()\n",
    "    optimizer.step()\n",
    "\n",
    "    if epoch % 100 == 0:\n",
    "        print(f\"epoch {epoch} \\nloss: {loss.item()}\\n\")"
   ]
  },
  {
   "cell_type": "code",
   "execution_count": 11,
   "metadata": {},
   "outputs": [
    {
     "name": "stdout",
     "output_type": "stream",
     "text": [
      "input: tensor([[10., 20.],\n",
      "        [15., 25.]])\n",
      "predicted sum: tensor([[nan],\n",
      "        [nan]])\n"
     ]
    }
   ],
   "source": [
    "# model testing\n",
    "x_test = torch.tensor([[10.0, 20.0], [15.0, 25.0]])\n",
    "y_test = model(x_test)\n",
    "print(\"input:\", x_test)\n",
    "print(\"predicted sum:\", y_test.detach())"
   ]
  }
 ],
 "metadata": {
  "kernelspec": {
   "display_name": ".venv",
   "language": "python",
   "name": "python3"
  },
  "language_info": {
   "codemirror_mode": {
    "name": "ipython",
    "version": 3
   },
   "file_extension": ".py",
   "mimetype": "text/x-python",
   "name": "python",
   "nbconvert_exporter": "python",
   "pygments_lexer": "ipython3",
   "version": "3.12.5"
  }
 },
 "nbformat": 4,
 "nbformat_minor": 2
}
