{
 "cells": [
  {
   "cell_type": "markdown",
   "metadata": {},
   "source": [
    "Initial Attempt"
   ]
  },
  {
   "cell_type": "code",
   "execution_count": 7,
   "metadata": {},
   "outputs": [],
   "source": [
    "import torch\n",
    "import torch.nn as nn\n",
    "import numpy as np"
   ]
  },
  {
   "cell_type": "code",
   "execution_count": 8,
   "metadata": {},
   "outputs": [],
   "source": [
    "\n",
    "class AddNet(nn.Module):\n",
    "    def __init__(self):\n",
    "        super(AddNet, self).__init__()\n",
    "        #TODO: explain simple linear equation facilitated\n",
    "        self.output = nn.Linear(2, 1)\n",
    "    \n",
    "    def forward(self, x):\n",
    "        return self.output(x)\n"
   ]
  },
  {
   "cell_type": "code",
   "execution_count": 9,
   "metadata": {},
   "outputs": [],
   "source": [
    "def normalize(x):\n",
    "    \"\"\"Normalizes input values to range [0,1].\"\"\"\n",
    "    return x / 100.0\n",
    "\n",
    "def denormalize(x):\n",
    "    \"\"\"Denormalizes values back to original range.\"\"\"\n",
    "    return x * 100.0"
   ]
  },
  {
   "cell_type": "code",
   "execution_count": 10,
   "metadata": {},
   "outputs": [],
   "source": [
    "\n",
    "def generate_training_data(num_samples):\n",
    "    x1 = torch.randint(0, 101, (num_samples, 1), dtype=torch.float32)\n",
    "    x2 = torch.randint(0, 101, (num_samples, 1), dtype=torch.float32)\n",
    "    inputs = torch.cat((normalize(x1), normalize(x2)), dim=1)\n",
    "    targets = normalize(x1 + x2)\n",
    "    return inputs, targets\n"
   ]
  },
  {
   "cell_type": "code",
   "execution_count": 11,
   "metadata": {},
   "outputs": [],
   "source": [
    "def train_add_net(model, num_epochs=500, batch_size=32):\n",
    "    criterion = nn.MSELoss()\n",
    "    optimizer = torch.optim.Adam(model.parameters(), lr=0.05)\n",
    "    \n",
    "    inputs, targets = generate_training_data(1000)\n",
    "    \n",
    "    for epoch in range(num_epochs):\n",
    "        idx = torch.randperm(inputs.shape[0])[:batch_size]\n",
    "        batch_inputs = inputs[idx]\n",
    "        batch_targets = targets[idx]\n",
    "        \n",
    "        outputs = model(batch_inputs)\n",
    "        loss = criterion(outputs, batch_targets)\n",
    "        \n",
    "        optimizer.zero_grad()\n",
    "        loss.backward()\n",
    "        optimizer.step()\n",
    "        \n",
    "        if (epoch + 1) % 100 == 0:\n",
    "            print(f'Epoch [{epoch+1}/{num_epochs}], Loss: {loss.item():.4f}')\n",
    "            print_weights_and_bias(model)\n"
   ]
  },
  {
   "cell_type": "code",
   "execution_count": 12,
   "metadata": {},
   "outputs": [],
   "source": [
    "def inference(model, x1, x2):\n",
    "    \"\"\"Performs model inference with normalization handling.\"\"\"\n",
    "    model.eval()\n",
    "    with torch.no_grad():\n",
    "        x1_norm = normalize(torch.tensor([[float(x1)]], dtype=torch.float32))\n",
    "        x2_norm = normalize(torch.tensor([[float(x2)]], dtype=torch.float32))\n",
    "        inputs = torch.cat((x1_norm, x2_norm), dim=1)\n",
    "        predicted_sum_norm = model(inputs)\n",
    "        return denormalize(predicted_sum_norm).item()"
   ]
  },
  {
   "cell_type": "code",
   "execution_count": 13,
   "metadata": {},
   "outputs": [],
   "source": [
    "\n",
    "def test_addition(model, x1, x2):\n",
    "    \"\"\"User-friendly testing function for a single pair of numbers.\"\"\"\n",
    "    predicted_sum = inference(model, x1, x2)\n",
    "    actual_sum = x1 + x2\n",
    "    \n",
    "    print(f\"\\nTest Result:\")\n",
    "    print(f\"Numbers: {x1} + {x2}\")\n",
    "    print(f\"Predicted sum: {predicted_sum:.4f}\")\n",
    "    print(f\"Actual sum: {actual_sum:.4f}\")\n",
    "    print(f\"Error: {abs(predicted_sum - actual_sum):.4f}\")\n",
    "    \n",
    "    return predicted_sum\n"
   ]
  },
  {
   "cell_type": "code",
   "execution_count": 14,
   "metadata": {},
   "outputs": [],
   "source": [
    "def batch_test(model, num_samples):\n",
    "    \"\"\"Performs batch testing with random numbers.\"\"\"\n",
    "    print(f\"\\nBatch Testing ({num_samples} samples):\")\n",
    "    print(\"-\" * 50)\n",
    "    \n",
    "    for _ in range(num_samples):\n",
    "        x1 = np.random.uniform(0, 100)\n",
    "        x2 = np.random.uniform(0, 100)\n",
    "        test_addition(model, x1, x2)"
   ]
  },
  {
   "cell_type": "code",
   "execution_count": 15,
   "metadata": {},
   "outputs": [],
   "source": [
    "def print_weights_and_bias(model):\n",
    "    weights = model.output.weight.data.numpy()\n",
    "    bias = model.output.bias.data.numpy()\n",
    "    print(f\"Weights: [{weights[0][0]:.4f}, {weights[0][1]:.4f}]\")\n",
    "    print(f\"Bias: {bias[0]:.4f}\\n\")"
   ]
  },
  {
   "cell_type": "code",
   "execution_count": 16,
   "metadata": {},
   "outputs": [
    {
     "name": "stdout",
     "output_type": "stream",
     "text": [
      "Epoch [100/500], Loss: 0.0110\n",
      "Weights: [0.7485, 0.7415]\n",
      "Bias: 0.2872\n",
      "\n",
      "Epoch [200/500], Loss: 0.0021\n",
      "Weights: [0.9148, 0.9051]\n",
      "Bias: 0.1008\n",
      "\n",
      "Epoch [300/500], Loss: 0.0001\n",
      "Weights: [0.9769, 0.9756]\n",
      "Bias: 0.0262\n",
      "\n",
      "Epoch [400/500], Loss: 0.0000\n",
      "Weights: [0.9964, 0.9961]\n",
      "Bias: 0.0045\n",
      "\n",
      "Epoch [500/500], Loss: 0.0000\n",
      "Weights: [0.9996, 0.9996]\n",
      "Bias: 0.0004\n",
      "\n",
      "\n",
      "Test Result:\n",
      "Numbers: 5.7 + 3.2\n",
      "Predicted sum: 8.9376\n",
      "Actual sum: 8.9000\n",
      "Error: 0.0376\n",
      "\n",
      "Batch Testing (3 samples):\n",
      "--------------------------------------------------\n",
      "\n",
      "Test Result:\n",
      "Numbers: 33.10817160653971 + 16.97264567487534\n",
      "Predicted sum: 50.1029\n",
      "Actual sum: 50.0808\n",
      "Error: 0.0221\n",
      "\n",
      "Test Result:\n",
      "Numbers: 36.84003183450767 + 39.84632700999463\n",
      "Predicted sum: 76.6983\n",
      "Actual sum: 76.6864\n",
      "Error: 0.0120\n",
      "\n",
      "Test Result:\n",
      "Numbers: 81.35259687272651 + 30.189587108521177\n",
      "Predicted sum: 111.5412\n",
      "Actual sum: 111.5422\n",
      "Error: 0.0010\n"
     ]
    }
   ],
   "source": [
    "model = AddNet()\n",
    "train_add_net(model)\n",
    "test_addition(model, 5.7, 3.2)\n",
    "batch_test(model, 3)"
   ]
  },
  {
   "cell_type": "code",
   "execution_count": null,
   "metadata": {},
   "outputs": [],
   "source": []
  }
 ],
 "metadata": {
  "kernelspec": {
   "display_name": ".venv",
   "language": "python",
   "name": "python3"
  },
  "language_info": {
   "codemirror_mode": {
    "name": "ipython",
    "version": 3
   },
   "file_extension": ".py",
   "mimetype": "text/x-python",
   "name": "python",
   "nbconvert_exporter": "python",
   "pygments_lexer": "ipython3",
   "version": "3.12.5"
  }
 },
 "nbformat": 4,
 "nbformat_minor": 2
}
